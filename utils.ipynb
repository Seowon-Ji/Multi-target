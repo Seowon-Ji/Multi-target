{
  "nbformat": 4,
  "nbformat_minor": 0,
  "metadata": {
    "colab": {
      "name": "utils.ipynb",
      "provenance": [],
      "authorship_tag": "ABX9TyPdnYFE2xsQzkbhC+tQ3kth",
      "include_colab_link": true
    },
    "kernelspec": {
      "name": "python3",
      "display_name": "Python 3"
    }
  },
  "cells": [
    {
      "cell_type": "markdown",
      "metadata": {
        "id": "view-in-github",
        "colab_type": "text"
      },
      "source": [
        "<a href=\"https://colab.research.google.com/github/Seowon-Ji/Multi-target/blob/master/utils.ipynb\" target=\"_parent\"><img src=\"https://colab.research.google.com/assets/colab-badge.svg\" alt=\"Open In Colab\"/></a>"
      ]
    },
    {
      "cell_type": "code",
      "metadata": {
        "id": "zKgRcdzXook2",
        "colab_type": "code",
        "colab": {}
      },
      "source": [
        "import time\n",
        "from visdom import Visdom\n",
        "import numpy as np\n",
        "import torch\n",
        "\n",
        "class VisdomLinePlotter(object):\n",
        "    \"\"\"Plots to Visdom\"\"\"\n",
        "    def __init__(self, env_name='main'):\n",
        "        self.viz = Visdom()\n",
        "        self.env = env_name\n",
        "        self.plots = {}\n",
        "\n",
        "    def plot(self, var_name, split_name, title_name, x, y):\n",
        "        if var_name not in self.plots:\n",
        "            self.plots[var_name] = self.viz.line(X=np.array([x, x]), Y=np.array([y, y]), env=self.env, opts=dict(\n",
        "                legend=[split_name],\n",
        "                title=title_name,\n",
        "                xlabel='Epochs',\n",
        "                ylabel=var_name\n",
        "            ))\n",
        "        else:\n",
        "            self.viz.line(X=np.array([x]), Y=np.array([y]), env=self.env, win=self.plots[var_name], name=split_name,\n",
        "                          update='append')\n"
      ],
      "execution_count": 0,
      "outputs": []
    }
  ]
}